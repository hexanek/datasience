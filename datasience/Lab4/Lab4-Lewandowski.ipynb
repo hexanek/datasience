{
 "cells": [
  {
   "cell_type": "code",
   "execution_count": 1,
   "metadata": {},
   "outputs": [],
   "source": [
    "from openpyxl import Workbook"
   ]
  },
  {
   "cell_type": "code",
   "execution_count": 2,
   "metadata": {},
   "outputs": [],
   "source": [
    "import requests"
   ]
  },
  {
   "cell_type": "code",
   "execution_count": 3,
   "metadata": {},
   "outputs": [],
   "source": [
    "from bs4 import BeautifulSoup"
   ]
  },
  {
   "cell_type": "code",
   "execution_count": 4,
   "metadata": {},
   "outputs": [],
   "source": [
    "import random"
   ]
  },
  {
   "cell_type": "code",
   "execution_count": 5,
   "metadata": {},
   "outputs": [],
   "source": [
    "import string"
   ]
  },
  {
   "cell_type": "code",
   "execution_count": 6,
   "metadata": {},
   "outputs": [],
   "source": [
    "import re"
   ]
  },
  {
   "cell_type": "code",
   "execution_count": 7,
   "metadata": {},
   "outputs": [],
   "source": [
    "wb = Workbook()"
   ]
  },
  {
   "cell_type": "code",
   "execution_count": 8,
   "metadata": {},
   "outputs": [],
   "source": [
    "ws = wb.active"
   ]
  },
  {
   "cell_type": "code",
   "execution_count": 9,
   "metadata": {},
   "outputs": [],
   "source": [
    "ws1 = wb.create_sheet(\"Giełda\")"
   ]
  },
  {
   "cell_type": "code",
   "execution_count": 10,
   "metadata": {},
   "outputs": [],
   "source": [
    "ws2 = wb.create_sheet(\"Linki\")"
   ]
  },
  {
   "cell_type": "code",
   "execution_count": 11,
   "metadata": {},
   "outputs": [],
   "source": [
    "ws3 = wb.create_sheet(\"Filmweb\")"
   ]
  },
  {
   "cell_type": "code",
   "execution_count": 12,
   "metadata": {},
   "outputs": [
    {
     "name": "stdout",
     "output_type": "stream",
     "text": [
      "['Sheet', 'Giełda', 'Linki', 'Filmweb']\n"
     ]
    }
   ],
   "source": [
    "print(wb.sheetnames)\n"
   ]
  },
  {
   "cell_type": "code",
   "execution_count": 13,
   "metadata": {},
   "outputs": [],
   "source": [
    "url = \"https://stooq.pl/q/?s=cdr\"\n",
    "r = requests.get(url)\n",
    "data = r.text\n",
    "site = BeautifulSoup(data)\n",
    "random_word = random.choice(string.ascii_letters)"
   ]
  },
  {
   "cell_type": "code",
   "execution_count": 14,
   "metadata": {},
   "outputs": [
    {
     "name": "stdout",
     "output_type": "stream",
     "text": [
      "Znaleziono kod: pffd.us\n",
      "Znaleziono kod: akm20.f\n",
      "Kod nie znaleziony.\n",
      "Znaleziono kod: qqxt.us\n",
      "Znaleziono kod: omi.uk\n",
      "Znaleziono kod: gtls.us\n",
      "pffd.us\n",
      "24.954, (+0.02%), 55\n",
      "akm20.f\n",
      "1.495, (+0.61%), \n",
      "qqxt.us\n",
      "56.1100, (+0.02%), 2\n",
      "omi.uk\n",
      "2.90, (0.00%), 2\n",
      "gtls.us\n",
      "55.7900, (-1.71%), 263\n"
     ]
    }
   ],
   "source": [
    "index = 0\n",
    "url3 = \"https://stooq.pl/q/?s=\"\n",
    "valid_codes = []\n",
    "while index < 5:\n",
    "    random_word = random.choice(string.ascii_letters) + random.choice(string.ascii_letters) + random.choice(string.ascii_letters) \n",
    "    req_comp = requests.get(url3+random_word)\n",
    "    data4 = req_comp.text\n",
    "    site = BeautifulSoup(data4)\n",
    "    if len(site.body.findAll('span', id='c2')) != 0:\n",
    "        link_content = site.find('font',id='f16').find('a',href=True)\n",
    "        if link_content.text == 'symbol waloru':\n",
    "            print(\"Kod nie znaleziony.\")\n",
    "        else:\n",
    "            valid_code = link_content['href'][5:]\n",
    "            valid_codes.append(valid_code)\n",
    "            print(f'Znaleziono kod: {valid_code}')\n",
    "            index = index + 1\n",
    "    else:\n",
    "        valid_codes.append(random_word)\n",
    "        index = index + 1\n",
    "        \n",
    "ws1.cell(row=1, column=1).value = 'Kod'\n",
    "ws1.cell(row=1, column=2).value = 'Kurs'\n",
    "ws1.cell(row=1, column=3).value = 'Zmiana procentowa'\n",
    "ws1.cell(row=1, column=4).value = 'Transakcje'\n",
    "row = 2\n",
    "        \n",
    "for code in valid_codes:\n",
    "    print(code)\n",
    "    params = {\"s\": code}\n",
    "    response = requests.get(\"http://stooq.pl/q/\", params=params)\n",
    "    soup = BeautifulSoup(response.content, 'html.parser')\n",
    "    price = soup.find(text=\"Kurs\").parent.find(\"span\").text\n",
    "    percent_change = soup.find(text=\"Zmiana\").parent.findAll(\"span\")[1].text\n",
    "    transactions = soup.find(text=\"Transakcje\").parent.find(\"span\").text\n",
    "    print(f\"{price}, {percent_change}, {transactions}\")\n",
    "    ws1.cell(row=row, column=1).value = code\n",
    "    ws1.cell(row=row, column=2).value = price if price else 'Brak danych'\n",
    "    ws1.cell(row=row, column=3).value =  percent_change if percent_change else 'Brak danych'\n",
    "    ws1.cell(row=row, column=4).value =  transactions if transactions else 'Brak danych'\n",
    "    row += 1"
   ]
  },
  {
   "cell_type": "code",
   "execution_count": 15,
   "metadata": {},
   "outputs": [],
   "source": [
    "urlik = \"https://www.filmweb.pl/film/To%3A+Rozdzia%C5%82+2-2019-793838\"\n",
    "r2 = requests.get(urlik)\n",
    "data2 = r2.text\n",
    "site = BeautifulSoup(data2)\n",
    "\n",
    "filmweb = {}\n",
    "filmweb['Director'] = site.find(text=\"reżyseria:\").next_element.find(\"a\").text\n",
    "filmweb['Year'] = site.find(\"h1\", class_=\"filmTitle\").find('span').text[1:5]\n",
    "boxoffice = site.find(text=\"boxoffice:\").next_element.text\n",
    "filmweb['BoxOffice']  = re.sub(r'(top #\\d+)', '', boxoffice)\n",
    "filmweb['Raiting'] = site.find(\"span\", itemprop=\"ratingValue\").text\n",
    "\n",
    "row = 1\n",
    "for key, value in filmweb.items():\n",
    "    ws3.cell(row,column=1).value = key\n",
    "    ws3.cell(row,column=2).value = value\n",
    "    row += 1"
   ]
  },
  {
   "cell_type": "code",
   "execution_count": 16,
   "metadata": {},
   "outputs": [],
   "source": [
    "urlik3 = \"http://google.pl\"\n",
    "r3 = requests.get(urlik3)\n",
    "data3 = r3.text\n",
    "site = BeautifulSoup(data3)\n",
    "row_row = 1\n",
    "for link in site.find_all('a'):\n",
    "    ws2.cell(row=row_row,column=1).value = link.get('href')\n",
    "    row_row = row_row + 1"
   ]
  },
  {
   "cell_type": "code",
   "execution_count": 17,
   "metadata": {},
   "outputs": [],
   "source": [
    "row_row = 1\n",
    "for link in site.find_all('a'):\n",
    "    ws2.cell(row=row_row,column=1).value = link.get('href')\n",
    "    row_row = row_row + 1"
   ]
  },
  {
   "cell_type": "code",
   "execution_count": 19,
   "metadata": {},
   "outputs": [],
   "source": [
    "wb.save(\"Lewandowski-165ICA2.xlsx\")"
   ]
  },
  {
   "cell_type": "code",
   "execution_count": null,
   "metadata": {},
   "outputs": [],
   "source": []
  }
 ],
 "metadata": {
  "kernelspec": {
   "display_name": "Python 3",
   "language": "python",
   "name": "python3"
  },
  "language_info": {
   "codemirror_mode": {
    "name": "ipython",
    "version": 3
   },
   "file_extension": ".py",
   "mimetype": "text/x-python",
   "name": "python",
   "nbconvert_exporter": "python",
   "pygments_lexer": "ipython3",
   "version": "3.7.4"
  }
 },
 "nbformat": 4,
 "nbformat_minor": 2
}
