{
 "cells": [
  {
   "cell_type": "code",
   "execution_count": 1,
   "metadata": {},
   "outputs": [],
   "source": [
    "from openpyxl import Workbook"
   ]
  },
  {
   "cell_type": "code",
   "execution_count": 9,
   "metadata": {},
   "outputs": [],
   "source": [
    "import requests"
   ]
  },
  {
   "cell_type": "code",
   "execution_count": 14,
   "metadata": {},
   "outputs": [],
   "source": [
    "from bs4 import BeautifulSoup"
   ]
  },
  {
   "cell_type": "code",
   "execution_count": 2,
   "metadata": {},
   "outputs": [],
   "source": [
    "wb = Workbook()"
   ]
  },
  {
   "cell_type": "code",
   "execution_count": 3,
   "metadata": {},
   "outputs": [],
   "source": [
    "ws = wb.active"
   ]
  },
  {
   "cell_type": "code",
   "execution_count": 4,
   "metadata": {},
   "outputs": [],
   "source": [
    "ws1 = wb.create_sheet(\"Giełda\")"
   ]
  },
  {
   "cell_type": "code",
   "execution_count": 5,
   "metadata": {},
   "outputs": [],
   "source": [
    "ws2 = wb.create_sheet(\"Linki\")"
   ]
  },
  {
   "cell_type": "code",
   "execution_count": 7,
   "metadata": {},
   "outputs": [],
   "source": [
    "ws3 = wb.create_sheet(\"Filmweb\")"
   ]
  },
  {
   "cell_type": "code",
   "execution_count": 18,
   "metadata": {},
   "outputs": [
    {
     "name": "stdout",
     "output_type": "stream",
     "text": [
      "['Sheet', 'Giełda', 'Linki', 'Filmweb', 'Filmweb1']\n"
     ]
    }
   ],
   "source": [
    "print(wb.sheetnames)\n"
   ]
  },
  {
   "cell_type": "code",
   "execution_count": 19,
   "metadata": {},
   "outputs": [],
   "source": [
    "sp1 = \"cdr\""
   ]
  },
  {
   "cell_type": "code",
   "execution_count": 20,
   "metadata": {},
   "outputs": [],
   "source": [
    "param = {\"s\": sp1}"
   ]
  },
  {
   "cell_type": "code",
   "execution_count": 21,
   "metadata": {},
   "outputs": [],
   "source": [
    "cdr=requests.get(\"http://stooq.pl/q/\", params=param)"
   ]
  },
  {
   "cell_type": "code",
   "execution_count": 22,
   "metadata": {},
   "outputs": [],
   "source": [
    "soupcdr = BeautifulSoup(cdr.text, 'html.parser')"
   ]
  },
  {
   "cell_type": "code",
   "execution_count": 23,
   "metadata": {},
   "outputs": [],
   "source": [
    "znacznik_kurs = soupcdr.find(text=\"Kurs\").parent.find(\"span\")\n",
    "kurs = float(znacznik_kurs.text)"
   ]
  },
  {
   "cell_type": "code",
   "execution_count": 24,
   "metadata": {},
   "outputs": [],
   "source": [
    "znacznik_zmiana = soupcdr.find(text=\"Zmiana\").parent.find(\"span\")\n",
    "zmiana = float(znacznik_zmiana.text)"
   ]
  },
  {
   "cell_type": "code",
   "execution_count": 29,
   "metadata": {},
   "outputs": [],
   "source": [
    "znacznik_transakcje = soupcdr.find(text=\"Transakcje\").parent.find(\"span\")\n",
    "transakcje = str(znacznik_transakcje.text)"
   ]
  },
  {
   "cell_type": "code",
   "execution_count": 32,
   "metadata": {},
   "outputs": [],
   "source": [
    "cdr1= ws1['A1']"
   ]
  },
  {
   "cell_type": "code",
   "execution_count": 36,
   "metadata": {},
   "outputs": [],
   "source": [
    "cdr1.value=kurs"
   ]
  },
  {
   "cell_type": "code",
   "execution_count": 38,
   "metadata": {},
   "outputs": [
    {
     "data": {
      "text/plain": [
       "252.1"
      ]
     },
     "execution_count": 38,
     "metadata": {},
     "output_type": "execute_result"
    }
   ],
   "source": [
    "cdr1.value"
   ]
  },
  {
   "cell_type": "code",
   "execution_count": 39,
   "metadata": {},
   "outputs": [],
   "source": [
    "cdr2=ws1['A2']"
   ]
  },
  {
   "cell_type": "code",
   "execution_count": 40,
   "metadata": {},
   "outputs": [],
   "source": [
    "cdr2.value = zmiana"
   ]
  },
  {
   "cell_type": "code",
   "execution_count": 41,
   "metadata": {},
   "outputs": [],
   "source": [
    "cdr3 = ws1['A3']"
   ]
  },
  {
   "cell_type": "code",
   "execution_count": 42,
   "metadata": {},
   "outputs": [],
   "source": [
    "cdr3.value = transakcje"
   ]
  },
  {
   "cell_type": "code",
   "execution_count": 45,
   "metadata": {},
   "outputs": [],
   "source": [
    "wb.save(\"Gielda.xls\")"
   ]
  },
  {
   "cell_type": "code",
   "execution_count": 51,
   "metadata": {},
   "outputs": [],
   "source": [
    "sp2 = \"ast\"\n",
    "param2 = {\"s\": sp2}\n",
    "ast=requests.get(\"http://stooq.pl/q/\", params=param2)\n",
    "soupast = BeautifulSoup(ast.text, 'html.parser')"
   ]
  },
  {
   "cell_type": "code",
   "execution_count": 52,
   "metadata": {},
   "outputs": [],
   "source": [
    "znacznik_kurs2 = soupast.find(text=\"Kurs\").parent.find(\"span\")\n",
    "kurs2 = float(znacznik_kurs2.text)\n",
    "znacznik_zmiana2 = soupast.find(text=\"Zmiana\").parent.find(\"span\")\n",
    "zmiana2 = float(znacznik_zmiana2.text)\n",
    "znacznik_transakcje2 = soupast.find(text=\"Transakcje\").parent.find(\"span\")\n",
    "transakcje2 = str(znacznik_transakcje2.text)"
   ]
  },
  {
   "cell_type": "code",
   "execution_count": 54,
   "metadata": {},
   "outputs": [
    {
     "name": "stdout",
     "output_type": "stream",
     "text": [
      "ocena: 7.6, rezyseria:Bradley Cooper, scenariusz: Will Fetters, gatunek: Dramat, oryginalny_tytul: A Star Is Born, boxoffice:434888866\n"
     ]
    }
   ],
   "source": [
    "odpowiedz = requests.get(\"https://www.filmweb.pl/film/Narodziny+gwiazdy-2018-542576\")\n",
    "soup = BeautifulSoup(odpowiedz.text, 'html.parser')\n",
    "ocena = float(soup.find(\"span\", itemprop=\"ratingValue\").text.replace(\",\", \".\"))\n",
    "rezyseria = soup.find(text=\"reżyseria:\").next_element.find(\"a\").text\n",
    "scenariusz = soup.find(text=\"scenariusz:\").next_element.find(\"a\").text\n",
    "gatunek = soup.find(text=\"gatunek:\").next_element.find(\"a\").text\n",
    "oryginalny_tytul = soup.find(\"h2\", class_=\"cap s-16 top-5\").text\n",
    "boxoffice = int(soup.find(text=\"boxoffice:\").next_element.text[1:].replace(\" \", \"\"))\n",
    "\n",
    "print(f\"ocena: {ocena}, rezyseria:{rezyseria}, scenariusz: {scenariusz}, gatunek: {gatunek}, oryginalny_tytul: {oryginalny_tytul}, boxoffice:{boxoffice}\")"
   ]
  },
  {
   "cell_type": "code",
   "execution_count": 55,
   "metadata": {},
   "outputs": [],
   "source": [
    "ocena1 = ws3['B1']\n",
    "rezyseria1 = ws3['B2']\n",
    "scenariusz1 = ws3['B3']\n",
    "gatunek1 = ws3['B4']\n",
    "boxoffice1 = ws3['B5']"
   ]
  },
  {
   "cell_type": "code",
   "execution_count": 57,
   "metadata": {},
   "outputs": [],
   "source": [
    "ocena1.value = ocena\n",
    "rezyseria1.value = rezyseria\n",
    "scenariusz1.value = scenariusz\n",
    "gatunek1.value=gatunek\n",
    "boxoffice1.value = boxoffice"
   ]
  },
  {
   "cell_type": "code",
   "execution_count": 71,
   "metadata": {},
   "outputs": [],
   "source": [
    "stronka = requests.get(\"https://google.pl\")\n",
    "soupgoogle = BeautifulSoup(stronka.text, 'html.parser')\n",
    "href_tags = soupgoogle.find_all(href=True)   \n",
    "hrefss = [tag.get('href') for tag in href_tags]"
   ]
  },
  {
   "cell_type": "code",
   "execution_count": 72,
   "metadata": {},
   "outputs": [
    {
     "data": {
      "text/plain": [
       "['https://www.google.pl/imghp?hl=pl&tab=wi',\n",
       " 'https://maps.google.pl/maps?hl=pl&tab=wl',\n",
       " 'https://play.google.com/?hl=pl&tab=w8',\n",
       " 'https://www.youtube.com/?gl=PL&tab=w1',\n",
       " 'https://news.google.pl/nwshp?hl=pl&tab=wn',\n",
       " 'https://mail.google.com/mail/?tab=wm',\n",
       " 'https://drive.google.com/?tab=wo',\n",
       " 'https://www.google.pl/intl/pl/about/products?tab=wh',\n",
       " 'http://www.google.pl/history/optout?hl=pl',\n",
       " '/preferences?hl=pl',\n",
       " 'https://accounts.google.com/ServiceLogin?hl=pl&passive=true&continue=https://www.google.pl/',\n",
       " '/advanced_search?hl=pl&authuser=0',\n",
       " '/language_tools?hl=pl&authuser=0',\n",
       " '/intl/pl/ads/',\n",
       " 'http://www.google.pl/intl/pl/services/',\n",
       " '/intl/pl/about.html',\n",
       " 'https://www.google.pl/setprefdomain?prefdom=US&sig=K_ihZVUdV-QKfc0PfTuzY5qPhmV2U%3D',\n",
       " '/intl/pl/policies/privacy/',\n",
       " '/intl/pl/policies/terms/']"
      ]
     },
     "execution_count": 72,
     "metadata": {},
     "output_type": "execute_result"
    }
   ],
   "source": [
    "hrefss"
   ]
  },
  {
   "cell_type": "code",
   "execution_count": 75,
   "metadata": {},
   "outputs": [],
   "source": [
    "linki1 = ws2['C1']"
   ]
  },
  {
   "cell_type": "code",
   "execution_count": 77,
   "metadata": {},
   "outputs": [],
   "source": [
    "linki1.value = str(hrefss)"
   ]
  },
  {
   "cell_type": "code",
   "execution_count": 78,
   "metadata": {},
   "outputs": [],
   "source": [
    "wb.save(\"Lewandowski-165ICA2.xls\")"
   ]
  },
  {
   "cell_type": "code",
   "execution_count": null,
   "metadata": {},
   "outputs": [],
   "source": []
  }
 ],
 "metadata": {
  "kernelspec": {
   "display_name": "Python 3",
   "language": "python",
   "name": "python3"
  },
  "language_info": {
   "codemirror_mode": {
    "name": "ipython",
    "version": 3
   },
   "file_extension": ".py",
   "mimetype": "text/x-python",
   "name": "python",
   "nbconvert_exporter": "python",
   "pygments_lexer": "ipython3",
   "version": "3.7.4"
  }
 },
 "nbformat": 4,
 "nbformat_minor": 2
}
