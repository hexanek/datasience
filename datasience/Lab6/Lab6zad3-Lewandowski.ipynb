{
 "cells": [
  {
   "cell_type": "code",
   "execution_count": 27,
   "metadata": {},
   "outputs": [],
   "source": [
    "import numpy as np\n",
    "import pandas as pd\n",
    "import io\n",
    "import os\n",
    "from sklearn import metrics\n",
    "from sklearn.feature_extraction.text import  CountVectorizer\n",
    "from sklearn.model_selection import train_test_split\n",
    "from sklearn.linear_model import LogisticRegression, LogisticRegressionCV\n",
    "from sklearn.model_selection import train_test_split, cross_val_score\n",
    "from sklearn.pipeline import make_pipeline, Pipeline\n",
    "import regex\n",
    "import eventlet\n",
    "from eventlet.green.urllib import request"
   ]
  },
  {
   "cell_type": "code",
   "execution_count": 28,
   "metadata": {},
   "outputs": [],
   "source": [
    "book_files={\n",
    " \"Mickiewicz\": [\n",
    " \"https://wolnelektury.pl/media/book/txt/dziady-dziady-widowisko-czesc-i.txt\",\n",
    " \"https://wolnelektury.pl/media/book/txt/dziady-dziadow-czesci-iii-ustep-do-przyjaciol-moskali.txt\",\n",
    " \"https://wolnelektury.pl/media/book/txt/ballady-i-romanse-pani-twardowska.txt\",\n",
    " \"https://wolnelektury.pl/media/book/txt/ballady-i-romanse-powrot-taty.txt\",\n",
    " \"https://wolnelektury.pl/media/book/txt/ballady-i-romanse-switez.txt\",\n",
    " \"https://wolnelektury.pl/media/book/txt/dziady-dziady-poema-dziady-czesc-iv.txt\",\n",
    " ],\n",
    " \"Sienkiewicz\": [\n",
    " \"https://wolnelektury.pl/media/book/txt/quo-vadis.txt\",\n",
    " \"https://wolnelektury.pl/media/book/txt/sienkiewicz-we-mgle.txt\",\n",
    " \"https://wolnelektury.pl/media/book/txt/potop-tom-pierwszy.txt\",\n",
    " \"https://wolnelektury.pl/media/book/txt/potop-tom-drugi.txt\",\n",
    " \"https://wolnelektury.pl/media/book/txt/potop-tom-trzeci.txt\",\n",
    " ],\n",
    " \"Orzeszkowa\": [\n",
    " \"https://wolnelektury.pl/media/book/txt/orzeszkowa-kto-winien.txt\",\n",
    " \"https://wolnelektury.pl/media/book/txt/nad-niemnem-tom-pierwszy.txt\",\n",
    " \"https://wolnelektury.pl/media/book/txt/nad-niemnem-tom-drugi.txt\",\n",
    " \"https://wolnelektury.pl/media/book/txt/nad-niemnem-tom-trzeci.txt\",\n",
    " \"https://wolnelektury.pl/media/book/txt/gloria-victis-dziwna-historia.txt\",\n",
    " \"https://wolnelektury.pl/media/book/txt/z-pozogi.txt\",\n",
    " \"https://wolnelektury.pl/media/book/txt/pani-dudkowa.txt\",\n",
    " \"https://wolnelektury.pl/media/book/txt/dymy.txt\",\n",
    " \"https://wolnelektury.pl/media/book/txt/syn-stolarza.txt\",\n",
    " \"https://wolnelektury.pl/media/book/txt/dobra-pani.txt\",\n",
    " \"https://wolnelektury.pl/media/book/txt/cnotliwi.txt\",\n",
    " \"https://wolnelektury.pl/media/book/txt/kilka-slow-o-kobietach.txt\",\n",
    " \"https://wolnelektury.pl/media/book/txt/patryotyzm-i-kosmopolityzm.txt\",\n",
    " \"https://wolnelektury.pl/media/book/txt/julianka.txt\",\n",
    " ],\n",
    " \"Prus\": [\n",
    " \"https://wolnelektury.pl/media/book/txt/lalka-tom-drugi.txt\",\n",
    " \"https://wolnelektury.pl/media/book/txt/lalka-tom-pierwszy.txt\",\n",
    " \"https://wolnelektury.pl/media/book/txt/antek.txt\",\n",
    " \"https://wolnelektury.pl/media/book/txt/katarynka.txt\",\n",
    " \"https://wolnelektury.pl/media/book/txt/prus-anielka.txt\",\n",
    " \"https://wolnelektury.pl/media/book/txt/prus-placowka.txt\",\n",
    " \n",
    " ],\n",
    " \"Reymont\": [\n",
    " \"https://wolnelektury.pl/media/book/txt/ziemia-obiecana-tom-pierwszy.txt\",\n",
    " \"https://wolnelektury.pl/media/book/txt/chlopi-czesc-pierwsza-jesien.txt\",\n",
    " \"https://wolnelektury.pl/media/book/txt/reymont-chlopi-zima.txt\",\n",
    " \"https://wolnelektury.pl/media/book/txt/chlopi-czesc-trzecia-wiosna.txt\",\n",
    " \"https://wolnelektury.pl/media/book/txt/chlopi-czesc-czwarta-lato.txt\",\n",
    " ]\n",
    "}"
   ]
  },
  {
   "cell_type": "code",
   "execution_count": 31,
   "metadata": {},
   "outputs": [
    {
     "name": "stdout",
     "output_type": "stream",
     "text": [
      "DONE\n"
     ]
    }
   ],
   "source": [
    "def fetch(url):\n",
    "    file_path = os.path.join(\"data\",os.path.basename(url))\n",
    "    if os.path.exists(file_path):\n",
    "        return None, None\n",
    "    data = request.urlopen(url).read()\n",
    "    return file_path, data\n",
    "\n",
    "for author in book_files:\n",
    "    pool = eventlet.GreenPool()\n",
    "    \n",
    "    for file_path, data in pool.imap(fetch, book_files[author]):\n",
    "        if file_path:\n",
    "            with open(file_path, mode=\"wb\") as f:\n",
    "                f.write(data)\n",
    "print (\"DONE\")"
   ]
  },
  {
   "cell_type": "code",
   "execution_count": 32,
   "metadata": {},
   "outputs": [
    {
     "data": {
      "text/html": [
       "<div>\n",
       "<style scoped>\n",
       "    .dataframe tbody tr th:only-of-type {\n",
       "        vertical-align: middle;\n",
       "    }\n",
       "\n",
       "    .dataframe tbody tr th {\n",
       "        vertical-align: top;\n",
       "    }\n",
       "\n",
       "    .dataframe thead th {\n",
       "        text-align: right;\n",
       "    }\n",
       "</style>\n",
       "<table border=\"1\" class=\"dataframe\">\n",
       "  <thead>\n",
       "    <tr style=\"text-align: right;\">\n",
       "      <th></th>\n",
       "      <th>author</th>\n",
       "      <th>txt</th>\n",
       "    </tr>\n",
       "  </thead>\n",
       "  <tbody>\n",
       "    <tr>\n",
       "      <th>0</th>\n",
       "      <td>Mickiewicz</td>\n",
       "      <td>adam mickiewicz dziady</td>\n",
       "    </tr>\n",
       "    <tr>\n",
       "      <th>1</th>\n",
       "      <td>Mickiewicz</td>\n",
       "      <td>widowisko część i prawa strona teatru dziewica...</td>\n",
       "    </tr>\n",
       "    <tr>\n",
       "      <th>2</th>\n",
       "      <td>Mickiewicz</td>\n",
       "      <td>dziewica wstaje od stołu świeco niedobra</td>\n",
       "    </tr>\n",
       "    <tr>\n",
       "      <th>3</th>\n",
       "      <td>Mickiewicz</td>\n",
       "      <td>właśnie pora była zgasnąć</td>\n",
       "    </tr>\n",
       "    <tr>\n",
       "      <th>4</th>\n",
       "      <td>Mickiewicz</td>\n",
       "      <td>i nie mogłam doczytać czyż podobna zasnąć</td>\n",
       "    </tr>\n",
       "  </tbody>\n",
       "</table>\n",
       "</div>"
      ],
      "text/plain": [
       "       author                                                txt\n",
       "0  Mickiewicz                             adam mickiewicz dziady\n",
       "1  Mickiewicz  widowisko część i prawa strona teatru dziewica...\n",
       "2  Mickiewicz           dziewica wstaje od stołu świeco niedobra\n",
       "3  Mickiewicz                          właśnie pora była zgasnąć\n",
       "4  Mickiewicz          i nie mogłam doczytać czyż podobna zasnąć"
      ]
     },
     "execution_count": 32,
     "metadata": {},
     "output_type": "execute_result"
    }
   ],
   "source": [
    "def preprocess_file(file_path=None, file_url=None):\n",
    "    if not file_path and file_url:\n",
    "        file_path = os.path.join(\"data\",os.path.basename(file_url))\n",
    "        \n",
    "    text = open(file_path,'rb').read().decode(\"utf-8\").lower()\n",
    "\n",
    "\n",
    "    text = regex.sub(u\"[^ \\n\\p{Latin}\\-'.?!]\", \" \",text)\n",
    "    text = regex.sub(u\"[ \\n]+\", \" \", text)\n",
    "    text = regex.sub(r\"----- ta lektura.*\",\"\", text)\n",
    "\n",
    "    return [regex.sub(r\"^ \",\"\",l) for l in regex.split('\\.|,|\\?|!|:',text)]\n",
    "\n",
    "\n",
    "def get_book_df(document, author):\n",
    "    return pd.DataFrame({\n",
    "        'author': pd.Series(len(document)*[author]),\n",
    "        'txt': pd.Series(document),\n",
    "    })\n",
    "    \n",
    "book_lines_df = pd.concat([\n",
    "    get_book_df(preprocess_file(file_url=url),author=author) \n",
    "        for author in book_files for url in book_files[author] \n",
    "])\n",
    "\n",
    "book_lines_df.head()"
   ]
  },
  {
   "cell_type": "code",
   "execution_count": 33,
   "metadata": {},
   "outputs": [
    {
     "data": {
      "text/html": [
       "<div>\n",
       "<style scoped>\n",
       "    .dataframe tbody tr th:only-of-type {\n",
       "        vertical-align: middle;\n",
       "    }\n",
       "\n",
       "    .dataframe tbody tr th {\n",
       "        vertical-align: top;\n",
       "    }\n",
       "\n",
       "    .dataframe thead th {\n",
       "        text-align: right;\n",
       "    }\n",
       "</style>\n",
       "<table border=\"1\" class=\"dataframe\">\n",
       "  <thead>\n",
       "    <tr style=\"text-align: right;\">\n",
       "      <th></th>\n",
       "      <th>txt</th>\n",
       "    </tr>\n",
       "    <tr>\n",
       "      <th>author</th>\n",
       "      <th></th>\n",
       "    </tr>\n",
       "  </thead>\n",
       "  <tbody>\n",
       "    <tr>\n",
       "      <th>Mickiewicz</th>\n",
       "      <td>1206</td>\n",
       "    </tr>\n",
       "    <tr>\n",
       "      <th>Orzeszkowa</th>\n",
       "      <td>22177</td>\n",
       "    </tr>\n",
       "    <tr>\n",
       "      <th>Prus</th>\n",
       "      <td>31033</td>\n",
       "    </tr>\n",
       "    <tr>\n",
       "      <th>Reymont</th>\n",
       "      <td>24107</td>\n",
       "    </tr>\n",
       "    <tr>\n",
       "      <th>Sienkiewicz</th>\n",
       "      <td>40381</td>\n",
       "    </tr>\n",
       "  </tbody>\n",
       "</table>\n",
       "</div>"
      ],
      "text/plain": [
       "               txt\n",
       "author            \n",
       "Mickiewicz    1206\n",
       "Orzeszkowa   22177\n",
       "Prus         31033\n",
       "Reymont      24107\n",
       "Sienkiewicz  40381"
      ]
     },
     "execution_count": 33,
     "metadata": {},
     "output_type": "execute_result"
    }
   ],
   "source": [
    "book_lines_df.groupby('author').count()"
   ]
  },
  {
   "cell_type": "code",
   "execution_count": 34,
   "metadata": {},
   "outputs": [
    {
     "data": {
      "text/html": [
       "<div>\n",
       "<style scoped>\n",
       "    .dataframe tbody tr th:only-of-type {\n",
       "        vertical-align: middle;\n",
       "    }\n",
       "\n",
       "    .dataframe tbody tr th {\n",
       "        vertical-align: top;\n",
       "    }\n",
       "\n",
       "    .dataframe thead th {\n",
       "        text-align: right;\n",
       "    }\n",
       "</style>\n",
       "<table border=\"1\" class=\"dataframe\">\n",
       "  <thead>\n",
       "    <tr style=\"text-align: right;\">\n",
       "      <th></th>\n",
       "      <th>count</th>\n",
       "      <th>mean</th>\n",
       "      <th>std</th>\n",
       "      <th>min</th>\n",
       "      <th>25%</th>\n",
       "      <th>50%</th>\n",
       "      <th>75%</th>\n",
       "      <th>max</th>\n",
       "    </tr>\n",
       "    <tr>\n",
       "      <th>author</th>\n",
       "      <th></th>\n",
       "      <th></th>\n",
       "      <th></th>\n",
       "      <th></th>\n",
       "      <th></th>\n",
       "      <th></th>\n",
       "      <th></th>\n",
       "      <th></th>\n",
       "    </tr>\n",
       "  </thead>\n",
       "  <tbody>\n",
       "    <tr>\n",
       "      <th>Mickiewicz</th>\n",
       "      <td>1206.0</td>\n",
       "      <td>11.466003</td>\n",
       "      <td>10.459886</td>\n",
       "      <td>0.0</td>\n",
       "      <td>4.0</td>\n",
       "      <td>8.0</td>\n",
       "      <td>16.0</td>\n",
       "      <td>140.0</td>\n",
       "    </tr>\n",
       "    <tr>\n",
       "      <th>Orzeszkowa</th>\n",
       "      <td>22177.0</td>\n",
       "      <td>19.400821</td>\n",
       "      <td>17.257917</td>\n",
       "      <td>0.0</td>\n",
       "      <td>6.0</td>\n",
       "      <td>15.0</td>\n",
       "      <td>27.0</td>\n",
       "      <td>219.0</td>\n",
       "    </tr>\n",
       "    <tr>\n",
       "      <th>Prus</th>\n",
       "      <td>31033.0</td>\n",
       "      <td>12.131537</td>\n",
       "      <td>10.041450</td>\n",
       "      <td>0.0</td>\n",
       "      <td>5.0</td>\n",
       "      <td>10.0</td>\n",
       "      <td>17.0</td>\n",
       "      <td>133.0</td>\n",
       "    </tr>\n",
       "    <tr>\n",
       "      <th>Reymont</th>\n",
       "      <td>24107.0</td>\n",
       "      <td>16.359398</td>\n",
       "      <td>18.880965</td>\n",
       "      <td>0.0</td>\n",
       "      <td>5.0</td>\n",
       "      <td>10.0</td>\n",
       "      <td>21.0</td>\n",
       "      <td>316.0</td>\n",
       "    </tr>\n",
       "    <tr>\n",
       "      <th>Sienkiewicz</th>\n",
       "      <td>40381.0</td>\n",
       "      <td>13.705579</td>\n",
       "      <td>12.038426</td>\n",
       "      <td>0.0</td>\n",
       "      <td>5.0</td>\n",
       "      <td>10.0</td>\n",
       "      <td>19.0</td>\n",
       "      <td>146.0</td>\n",
       "    </tr>\n",
       "  </tbody>\n",
       "</table>\n",
       "</div>"
      ],
      "text/plain": [
       "               count       mean        std  min  25%   50%   75%    max\n",
       "author                                                                 \n",
       "Mickiewicz    1206.0  11.466003  10.459886  0.0  4.0   8.0  16.0  140.0\n",
       "Orzeszkowa   22177.0  19.400821  17.257917  0.0  6.0  15.0  27.0  219.0\n",
       "Prus         31033.0  12.131537  10.041450  0.0  5.0  10.0  17.0  133.0\n",
       "Reymont      24107.0  16.359398  18.880965  0.0  5.0  10.0  21.0  316.0\n",
       "Sienkiewicz  40381.0  13.705579  12.038426  0.0  5.0  10.0  19.0  146.0"
      ]
     },
     "execution_count": 34,
     "metadata": {},
     "output_type": "execute_result"
    }
   ],
   "source": [
    "book_lines_df['words'] = book_lines_df['txt'].apply(\n",
    "    lambda x: len(x.split())\n",
    ")\n",
    "book_lines_df.groupby('author')['words'].describe()"
   ]
  },
  {
   "cell_type": "code",
   "execution_count": 35,
   "metadata": {},
   "outputs": [
    {
     "data": {
      "text/plain": [
       "author\n",
       "Mickiewicz     40.0\n",
       "Orzeszkowa     67.0\n",
       "Prus           39.0\n",
       "Reymont        72.0\n",
       "Sienkiewicz    47.0\n",
       "Name: words, dtype: float64"
      ]
     },
     "execution_count": 35,
     "metadata": {},
     "output_type": "execute_result"
    }
   ],
   "source": [
    "book_lines_df.groupby('author')['words'].quantile(0.98)"
   ]
  },
  {
   "cell_type": "code",
   "execution_count": 36,
   "metadata": {},
   "outputs": [
    {
     "data": {
      "text/html": [
       "<div>\n",
       "<style scoped>\n",
       "    .dataframe tbody tr th:only-of-type {\n",
       "        vertical-align: middle;\n",
       "    }\n",
       "\n",
       "    .dataframe tbody tr th {\n",
       "        vertical-align: top;\n",
       "    }\n",
       "\n",
       "    .dataframe thead th {\n",
       "        text-align: right;\n",
       "    }\n",
       "</style>\n",
       "<table border=\"1\" class=\"dataframe\">\n",
       "  <thead>\n",
       "    <tr style=\"text-align: right;\">\n",
       "      <th></th>\n",
       "      <th>count</th>\n",
       "      <th>mean</th>\n",
       "      <th>std</th>\n",
       "      <th>min</th>\n",
       "      <th>25%</th>\n",
       "      <th>50%</th>\n",
       "      <th>75%</th>\n",
       "      <th>max</th>\n",
       "    </tr>\n",
       "    <tr>\n",
       "      <th>author</th>\n",
       "      <th></th>\n",
       "      <th></th>\n",
       "      <th></th>\n",
       "      <th></th>\n",
       "      <th></th>\n",
       "      <th></th>\n",
       "      <th></th>\n",
       "      <th></th>\n",
       "    </tr>\n",
       "  </thead>\n",
       "  <tbody>\n",
       "    <tr>\n",
       "      <th>Mickiewicz</th>\n",
       "      <td>1198.0</td>\n",
       "      <td>11.542571</td>\n",
       "      <td>10.452555</td>\n",
       "      <td>1.0</td>\n",
       "      <td>4.0</td>\n",
       "      <td>8.0</td>\n",
       "      <td>16.0</td>\n",
       "      <td>140.0</td>\n",
       "    </tr>\n",
       "    <tr>\n",
       "      <th>Orzeszkowa</th>\n",
       "      <td>22087.0</td>\n",
       "      <td>19.479875</td>\n",
       "      <td>17.248458</td>\n",
       "      <td>1.0</td>\n",
       "      <td>7.0</td>\n",
       "      <td>15.0</td>\n",
       "      <td>27.0</td>\n",
       "      <td>219.0</td>\n",
       "    </tr>\n",
       "    <tr>\n",
       "      <th>Prus</th>\n",
       "      <td>30941.0</td>\n",
       "      <td>12.167609</td>\n",
       "      <td>10.034522</td>\n",
       "      <td>1.0</td>\n",
       "      <td>5.0</td>\n",
       "      <td>10.0</td>\n",
       "      <td>17.0</td>\n",
       "      <td>133.0</td>\n",
       "    </tr>\n",
       "    <tr>\n",
       "      <th>Reymont</th>\n",
       "      <td>24079.0</td>\n",
       "      <td>16.378421</td>\n",
       "      <td>18.883692</td>\n",
       "      <td>1.0</td>\n",
       "      <td>5.0</td>\n",
       "      <td>10.0</td>\n",
       "      <td>21.0</td>\n",
       "      <td>316.0</td>\n",
       "    </tr>\n",
       "    <tr>\n",
       "      <th>Sienkiewicz</th>\n",
       "      <td>40258.0</td>\n",
       "      <td>13.747454</td>\n",
       "      <td>12.032905</td>\n",
       "      <td>1.0</td>\n",
       "      <td>5.0</td>\n",
       "      <td>10.0</td>\n",
       "      <td>19.0</td>\n",
       "      <td>146.0</td>\n",
       "    </tr>\n",
       "  </tbody>\n",
       "</table>\n",
       "</div>"
      ],
      "text/plain": [
       "               count       mean        std  min  25%   50%   75%    max\n",
       "author                                                                 \n",
       "Mickiewicz    1198.0  11.542571  10.452555  1.0  4.0   8.0  16.0  140.0\n",
       "Orzeszkowa   22087.0  19.479875  17.248458  1.0  7.0  15.0  27.0  219.0\n",
       "Prus         30941.0  12.167609  10.034522  1.0  5.0  10.0  17.0  133.0\n",
       "Reymont      24079.0  16.378421  18.883692  1.0  5.0  10.0  21.0  316.0\n",
       "Sienkiewicz  40258.0  13.747454  12.032905  1.0  5.0  10.0  19.0  146.0"
      ]
     },
     "execution_count": 36,
     "metadata": {},
     "output_type": "execute_result"
    }
   ],
   "source": [
    "book_lines_df=book_lines_df[~(book_lines_df['words']==0)]\n",
    "book_lines_df.groupby('author')['words'].describe()"
   ]
  },
  {
   "cell_type": "code",
   "execution_count": 37,
   "metadata": {},
   "outputs": [],
   "source": [
    "train_df, test_df = train_test_split(book_lines_df,test_size=0.1,stratify=book_lines_df['author'],)"
   ]
  },
  {
   "cell_type": "code",
   "execution_count": 38,
   "metadata": {},
   "outputs": [
    {
     "name": "stdout",
     "output_type": "stream",
     "text": [
      "Extracting vector for sentence: 'żydoskie paroby'\n"
     ]
    },
    {
     "data": {
      "text/plain": [
       "<1x127697 sparse matrix of type '<class 'numpy.int64'>'\n",
       "\twith 2 stored elements in Compressed Sparse Row format>"
      ]
     },
     "execution_count": 38,
     "metadata": {},
     "output_type": "execute_result"
    }
   ],
   "source": [
    "vectorizer = CountVectorizer()\n",
    "vectorizer.fit(train_df['txt'])\n",
    "sample_sentence = train_df.iloc[10]['txt']\n",
    "print (\"Extracting vector for sentence: '{}'\".format(sample_sentence))\n",
    "vectorizer.transform([sample_sentence])"
   ]
  },
  {
   "cell_type": "code",
   "execution_count": 39,
   "metadata": {},
   "outputs": [
    {
     "name": "stderr",
     "output_type": "stream",
     "text": [
      "/Users/HeX/Library/Python/3.7/lib/python/site-packages/sklearn/linear_model/logistic.py:432: FutureWarning: Default solver will be changed to 'lbfgs' in 0.22. Specify a solver to silence this warning.\n",
      "  FutureWarning)\n",
      "/Users/HeX/Library/Python/3.7/lib/python/site-packages/sklearn/linear_model/logistic.py:469: FutureWarning: Default multi_class will be changed to 'auto' in 0.22. Specify the multi_class option to silence this warning.\n",
      "  \"this warning.\", FutureWarning)\n",
      "/Users/HeX/Library/Python/3.7/lib/python/site-packages/sklearn/svm/base.py:929: ConvergenceWarning: Liblinear failed to converge, increase the number of iterations.\n",
      "  \"the number of iterations.\", ConvergenceWarning)\n"
     ]
    },
    {
     "data": {
      "text/plain": [
       "LogisticRegression(C=1.0, class_weight='balanced', dual=True,\n",
       "                   fit_intercept=True, intercept_scaling=1, l1_ratio=None,\n",
       "                   max_iter=100, multi_class='warn', n_jobs=None, penalty='l2',\n",
       "                   random_state=None, solver='warn', tol=0.0001, verbose=0,\n",
       "                   warm_start=False)"
      ]
     },
     "execution_count": 39,
     "metadata": {},
     "output_type": "execute_result"
    }
   ],
   "source": [
    "X_train=vectorizer.transform(train_df['txt'])\n",
    "X_test=vectorizer.transform(test_df['txt'])\n",
    "model = LogisticRegression(class_weight='balanced', dual=True)\n",
    "model.fit(X_train, train_df['author'])"
   ]
  },
  {
   "cell_type": "code",
   "execution_count": 40,
   "metadata": {},
   "outputs": [
    {
     "data": {
      "text/plain": [
       "0.7764189929999157"
      ]
     },
     "execution_count": 40,
     "metadata": {},
     "output_type": "execute_result"
    }
   ],
   "source": [
    "model.score(X_test, test_df['author'])"
   ]
  },
  {
   "cell_type": "code",
   "execution_count": 41,
   "metadata": {},
   "outputs": [
    {
     "name": "stdout",
     "output_type": "stream",
     "text": [
      "              precision    recall  f1-score   support\n",
      "\n",
      "  Mickiewicz     0.3562    0.4333    0.3910       120\n",
      "  Orzeszkowa     0.7582    0.7252    0.7413      2209\n",
      "        Prus     0.7602    0.7450    0.7525      3094\n",
      "     Reymont     0.7730    0.7566    0.7647      2408\n",
      " Sienkiewicz     0.8137    0.8507    0.8318      4026\n",
      "\n",
      "    accuracy                         0.7764     11857\n",
      "   macro avg     0.6923    0.7022    0.6963     11857\n",
      "weighted avg     0.7765    0.7764    0.7762     11857\n",
      "\n"
     ]
    }
   ],
   "source": [
    "target = test_df['author']\n",
    "predicted = model.predict(X_test)\n",
    "print (metrics.classification_report(target, predicted, digits=4))\n"
   ]
  },
  {
   "cell_type": "code",
   "execution_count": null,
   "metadata": {},
   "outputs": [],
   "source": []
  }
 ],
 "metadata": {
  "kernelspec": {
   "display_name": "Python 3",
   "language": "python",
   "name": "python3"
  },
  "language_info": {
   "codemirror_mode": {
    "name": "ipython",
    "version": 3
   },
   "file_extension": ".py",
   "mimetype": "text/x-python",
   "name": "python",
   "nbconvert_exporter": "python",
   "pygments_lexer": "ipython3",
   "version": "3.7.4"
  }
 },
 "nbformat": 4,
 "nbformat_minor": 2
}
